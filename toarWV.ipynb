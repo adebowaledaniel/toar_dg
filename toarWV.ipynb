{
 "metadata": {
  "language_info": {
   "codemirror_mode": {
    "name": "ipython",
    "version": 3
   },
   "file_extension": ".py",
   "mimetype": "text/x-python",
   "name": "python",
   "nbconvert_exporter": "python",
   "pygments_lexer": "ipython3",
   "version": "3.7.9-final"
  },
  "orig_nbformat": 2,
  "kernelspec": {
   "name": "python379jvsc74a57bd0d6f41ffedca2b390ab6a3ec2fc35a9a8c67de2a18aa089ae7c2139b0b3316829",
   "display_name": "Python 3.7.9 64-bit ('arcpy_env': conda)"
  }
 },
 "nbformat": 4,
 "nbformat_minor": 2,
 "cells": [
  {
   "cell_type": "code",
   "execution_count": 10,
   "metadata": {},
   "outputs": [],
   "source": [
    "import arcpy\n",
    "import os\n",
    "import sys\n",
    "import fnmatch\n",
    "import itertools\n",
    "import datetime\n",
    "from math import  *\n",
    "import numpy\n",
    "import gdal\n",
    "import xml.etree.ElementTree as et"
   ]
  },
  {
   "source": [
    "## L = Gain x DN x (abscalfactor/effective bandwidth) + Offset  ------Equation 1 Spectral Radiance\n",
    "## r = (pi * L(band) * dES^2) / (Esun * Cos(90 - meanSulEl)) ---------Equation 2 Planetary Reflecatance\n",
    "\n",
    "Link to the Maxar document [here](https://cdn1-originals.webdamdb.com/13264_102978826?cache=1581093759&response-content-disposition=inline%3Bfilename%3D30004_arc_202001.pdf.pdf&response-content-type=application%2Fpdf&Policy=eyJTdGF0ZW1lbnQiOlt7IlJlc291cmNlIjoiaHR0cCo6Ly9jZG4xLW9yaWdpbmFscy53ZWJkYW1kYi5jb20vMTMyNjRfMTAyOTc4ODI2P2NhY2hlPTE1ODEwOTM3NTkmcmVzcG9uc2UtY29udGVudC1kaXNwb3NpdGlvbj1pbmxpbmUlM0JmaWxlbmFtZSUzRDMwMDA0X2FyY18yMDIwMDEucGRmLnBkZiZyZXNwb25zZS1jb250ZW50LXR5cGU9YXBwbGljYXRpb24lMkZwZGYiLCJDb25kaXRpb24iOnsiRGF0ZUxlc3NUaGFuIjp7IkFXUzpFcG9jaFRpbWUiOjIxNDc0MTQ0MDB9fX1dfQ__&Signature=C0jVjal-2zWoGAivWwcl2-Ob5s8V-VtudJn6hhN96gFkloZObxc20rfdhEJIB~BxZGQ~zwBMjFBKvPZifB~yVZD5eFbXyutPf9AQV1hHNCwoXjPwRqVbjaEtxxHw6QMa8Cy9f5FO3L2A-1snDC1KLfFEqK66uBXL7tNAgDhAkkX6pUfVmcVJwe46JNlzKgvM5hugxmn6BzYrBq2VSh8cadGLYBT4umu3GpdSN1Bbl9L8lVqQtF7kiIYpdazCcPloWvWUoLvw1IvVh8jV~B4Qvau-wMZ~G9zFRjidhn1sXQj29EcroN-e0oxZiu6Ujgyo3HH2~Au1NKV1edzkcFjQVQ__&Key-Pair-Id=APKAI2ASI2IOLRFF2RHA)\n",
    " and [this](https://dg-cms-uploads-production.s3.amazonaws.com/uploads/document/file/209/ABSRADCAL_FLEET_2016v0_Rel20170606.pdf) - 2016v"
   ],
   "cell_type": "markdown",
   "metadata": {}
  },
  {
   "cell_type": "code",
   "execution_count": 11,
   "metadata": {},
   "outputs": [],
   "source": [
    "#constant parameters \n",
    "pi = 3.14159265358\n",
    "# Extracted from Absolute Radiometric Calibration: 2016v\n",
    "offset = {'Band_1': -5.736, 'Band_2': -3.546,'Band_3': -2.512,  'Band_4': -3.300}\n",
    "gain = {'Band_1':0.988, 'Band_2': 0.36, 'Band_3':0.952, 'Band_4':0.961}\n",
    "esun = {'Band_1':2007.27, 'Band_2':1829.62,'Band_3': 1538.85, 'Band_4':1053.21}\n"
   ]
  },
  {
   "cell_type": "code",
   "execution_count": 12,
   "metadata": {},
   "outputs": [
    {
     "output_type": "stream",
     "name": "stdout",
     "text": [
      "C:\\\\Toar\\\\NGA_Ngala_WV2_12Aug2016_2016_55_249_original\\\\055795286010_01\\\\055795286010_01_P001_MUL\\\\16AUG12093434-M2AS-055795286010_01_P001.XML\nC:\\\\Toar\\\\NGA_Ngala_WV2_12Aug2016_2016_55_249_original\\\\055795286010_01\\\\055795286010_01_P001_MUL\\\\16AUG12093434-M2AS-055795286010_01_P001.TIF\n"
     ]
    }
   ],
   "source": [
    "folder = r'C:\\\\Toar\\\\NGA_Ngala_WV2_12Aug2016_2016_55_249_original\\\\055795286010_01\\\\055795286010_01_P001_MUL\\\\' # path to the P001_MUL (The MultiSpectral folder)\n",
    "\n",
    "#get image and metadata paths\n",
    "def find_paths(folder):\n",
    "    image =[]\n",
    "    metadata_path =[]  \n",
    "    #arcpy.env.workspace = r'C:\\Toar'= wkspc\n",
    "    for k in os.listdir(folder):\n",
    "        if k.endswith('.XML'):\n",
    "            metadata_path = os.path.join(folder,k)\n",
    "        if k.endswith('.TIF'):\n",
    "            image = os.path.join(folder,k)\n",
    "    return(metadata_path, image)\n",
    "\n",
    "m_path, i_path = find_paths(folder)\n",
    "\n",
    "print(m_path)\n",
    "print(i_path)"
   ]
  },
  {
   "cell_type": "code",
   "execution_count": 13,
   "metadata": {},
   "outputs": [],
   "source": [
    "## METADATA\n",
    "#read neccesary parameters from the metadata\n",
    "def find_metad(metadata_path):\n",
    "    #iterate through the metada\n",
    "    tree = et.parse(metadata_path)\n",
    "    root = tree.getroot()\n",
    "\n",
    "    #uncomment to see the tag for each band (but not neccesary)\n",
    "    # [elem.tag for elem in root.iter()]\n",
    "\n",
    "    #Time\n",
    "    for d in root.iter('GENERATIONTIME'):\n",
    "        dt = d.text #dt = d.text[:10]\n",
    "    #Sun elevation Angle\n",
    "    for a in root.iter('IMAGE'):\n",
    "        for i in a.iter('MEANSUNEL'):\n",
    "            sza = 90 - float(i.text) #sun elevation angle converted to sun zenith angle\n",
    "\n",
    "    # extract the abscalfactor and effectivebandwidth \n",
    "    band_names = ['BAND_B', 'BAND_G','BAND_R', 'BAND_N'] #As written in the metadata\n",
    "    g=[]\n",
    "    for name in band_names:\n",
    "        for b in root.iter(name):\n",
    "            for b,c in itertools.product(b.iter('EFFECTIVEBANDWIDTH'), b.iter('ABSCALFACTOR')):\n",
    "                d =float(c.text)/float(b.text) #(abscalfacto/effective bandwidth) --- see equation 1\n",
    "                d = round(d,7)\n",
    "                g.append(d)\n",
    "    dic = dict(zip(band_names,g))\n",
    "    rnm = {'BAND_B': 'Band_1', 'BAND_G': 'Band_2','BAND_R': 'Band_3',  'BAND_N': 'Band_4'} #Change band name to numbers\n",
    "    band_factors = dict((rnm[key], value)for (key, value) in dic.items())\n",
    "    return(band_factors, sza, dt)\n",
    "\n",
    "absl, sza, dt  = find_metad(m_path)\n",
    "# print(absl, sza, dt)"
   ]
  },
  {
   "cell_type": "code",
   "execution_count": 14,
   "metadata": {},
   "outputs": [
    {
     "output_type": "execute_result",
     "data": {
      "text/plain": [
       "1.0003964721944973"
      ]
     },
     "metadata": {},
     "execution_count": 14
    }
   ],
   "source": [
    "# Get Julian day --Need review\n",
    "#https://radixpro.com/a4a-start/julian-day-and-julian-day-number/\n",
    "def datestdtojd(dt):\n",
    "    fmt='%Y-%m-%dT%H:%M:%S.%fZ'\n",
    "    dt = datetime.datetime.strptime(dt, fmt)\n",
    "    dt = dt.timetuple()\n",
    "    yr = int(dt.tm_year)\n",
    "    mon = int(dt.tm_mon)\n",
    "    dy = int(dt.tm_mday)\n",
    "    if mon in (1,2):\n",
    "        yr -= 1\n",
    "        mon += 12\n",
    "    # doy = dt.tm_yday\n",
    "    hr = int(dt.tm_hour)\n",
    "    mit = int(dt.tm_min)/60.\n",
    "    sec = float(float(dt.tm_sec)/3600.)\n",
    "    tm = (hr+mit+sec)/24.0\n",
    "    \n",
    "    A = int(yr/100)                     \n",
    "    B = 2- A + int(A/4)\n",
    "\n",
    "    jd = int(365.25 * (yr + 4716)) + \\\n",
    "        int(30.6001 * (mon + 1)) + \\\n",
    "        dy + tm +\\\n",
    "        B - 1525.5\n",
    "    \n",
    "    \"\"\"GRASS GIS i.toar\"\"\"\n",
    "    D = jd - 2451545.0\n",
    "    g = 357.529 + 0.98560028 * D\n",
    "    gr = math.radians(g)\n",
    "    dES = 1.00014 - 0.01671 * math.cos(gr) - 0.00014 * math.cos(2 * gr)\n",
    "    return dES\n",
    "\n",
    "jdt = datestdtojd(dt)\n",
    "jdt"
   ]
  },
  {
   "cell_type": "code",
   "execution_count": 19,
   "metadata": {},
   "outputs": [],
   "source": [
    "#output path \n",
    "Prod_D = os.path.join(folder, 'Prod_D')\n",
    "if not os.path.exists(Prod_D):\n",
    "    os.mkdir(Prod_D)\n",
    "#output file name\n",
    "outfile =  os.path.join(Prod_D,'processed_calrefbyt_vhr.dat')\n",
    "\n",
    "# copy raster properties from input raster\n",
    "Ds = gdal.Open(i_path, gdal.GA_ReadOnly)\n",
    "ysize = Ds.RasterYSize\n",
    "xsize = Ds.RasterXSize\n",
    "transf = Ds.GetGeoTransform()\n",
    "proj = Ds.GetProjection()\n",
    "#output format\n",
    "driver = gdal.GetDriverByName('ENVI')   \n",
    "#\n",
    "bnum, bnums = 1,4\n",
    "output_file = driver.Create(outfile, xsize,ysize, bnums, gdal.GDT_Byte)\n",
    "output_file.SetGeoTransform(transf)\n",
    "output_file.SetProjection(proj)\n",
    "\n",
    "for i in range(1,5):\n",
    "    data = None\n",
    "    inDs = gdal.Open(i_path, gdal.GA_ReadOnly)\n",
    "    band = inDs.GetRasterBand(i)\n",
    "    data = band.ReadAsArray().astype(numpy.float16)\n",
    "    data[data ==0] = numpy.nan\n",
    "    band.FlushCache()\n",
    "    band = None\n",
    "    \n",
    "    if i in range(1,5):\n",
    "        #Get parameters for each band\n",
    "        gn = float(gain['Band_'+str(i)])\n",
    "        asf = float(absl['Band_'+str(i)])\n",
    "        oft = float(offset['Band_'+str(i)])\n",
    "        esn = float(esun['Band_'+str(i)]) \n",
    "        # cal. TOA \n",
    "        data = gn * data * asf + oft # -- Equation 1\n",
    "        data = (pi * data * jdt**2) / (esn * math.cos(math.radians(sza))) # -- Equation 2\n",
    "        data[data<0] = 0\n",
    "        data[data>1] = 1\n",
    "        data *=255\n",
    "\n",
    "        #write bands in a file .dat\n",
    "        refloutp = output_file.GetRasterBand(bnum)\n",
    "        refloutp.WriteArray(data.astype(numpy.float32))\n",
    "        refloutp.FlushCache()\n",
    "        refloutp = None\n",
    "        bnum += 1\n",
    "\n",
    "#close files\n",
    "data = None\n",
    "inDs = None\n",
    "outfile = None\n",
    "output_file = None\n",
    "refloutp = None\n"
   ]
  },
  {
   "cell_type": "code",
   "execution_count": 7,
   "metadata": {},
   "outputs": [],
   "source": [
    "# arcpy.env.workspace = i_path\n",
    "# proc_path = r'C:\\Toar\\Proc\\\\'\n",
    "# Prod_D = os.path.join(folder, 'Prod_D')\n",
    "# if not os.path.exists(Prod_D):\n",
    "#     os.mkdir(Prod_D)\n",
    "# comp_file = os.path.join(Prod_D, 'Composite.tif')\n",
    "# dat_file = os.path.join(Prod_D, 'datrfk.dat')\n",
    "# def cal_radiance(path_):\n",
    "#     bands = [Raster(os.path.join(i_path, b)) for b in arcpy.ListRasters()]\n",
    "\n",
    "#     for band in bands:\n",
    "#         bn = str(band.name)\n",
    "#         band = Raster(band)   \n",
    "#         bradiance = gain[bn] * band * absl[bn] + offset[bn]\n",
    "#         refl = (pi * bradiance * jdt**2) / (esun[bn] * math.cos(math.radians(sza)))\n",
    "#         # dd = esun[bn] * math.cos(sunel)\n",
    "#         # refl = hg/dd \n",
    "#         # refl.save(proc_path+bn+'_calfel.tif')\n",
    "#     for i in arcpy.ListRasters():\n",
    "#         arcpy.CompositeBands_management(i, comp_file)\n",
    "#         arcpy.CopyRaster_management(comp_file, dat_file, '','', '','','','8_BIT_UNSIGNED','','','ENVI')     \n",
    "#     return(refl) \n",
    "\n",
    "# # def cal_reflectance(bradiance):\n",
    "# # arcpy.CopyRaster_management()\n"
   ]
  }
 ]
}