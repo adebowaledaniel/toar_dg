{
 "metadata": {
  "language_info": {
   "codemirror_mode": {
    "name": "ipython",
    "version": 3
   },
   "file_extension": ".py",
   "mimetype": "text/x-python",
   "name": "python",
   "nbconvert_exporter": "python",
   "pygments_lexer": "ipython3",
   "version": "3.7.9-final"
  },
  "orig_nbformat": 2,
  "kernelspec": {
   "name": "python379jvsc74a57bd0d6f41ffedca2b390ab6a3ec2fc35a9a8c67de2a18aa089ae7c2139b0b3316829",
   "display_name": "Python 3.7.9 64-bit ('arcpy_env': conda)"
  }
 },
 "nbformat": 4,
 "nbformat_minor": 2,
 "cells": [
  {
   "cell_type": "code",
   "execution_count": 1,
   "metadata": {},
   "outputs": [],
   "source": [
    "# import arcpy\n",
    "import os\n",
    "import sys\n",
    "import fnmatch\n",
    "import itertools\n",
    "import numpy as np\n",
    "from osgeo import gdal\n",
    "#import rasterio\n",
    "import xml.etree.ElementTree as et"
   ]
  },
  {
   "cell_type": "code",
   "execution_count": 2,
   "metadata": {},
   "outputs": [],
   "source": [
    "#constant parameters \n",
    "pi = 3.14159265358\n",
    "offset = {'BAND_R': -2.512, 'BAND_G': -3.546, 'BAND_B': -5.736, 'BAND_N': -3.300}\n",
    "gain = {'BAND_R':0.952, 'BAND_G': 0.36, 'BAND_B':0.988, 'BAND_N':0.961}\n",
    "esun = {'BAND_R': 1538.85, 'BAND_G':1829.62,'BAND_B':2007.27, 'BAND_N':1053.21}\n"
   ]
  },
  {
   "cell_type": "code",
   "execution_count": 3,
   "metadata": {},
   "outputs": [
    {
     "output_type": "stream",
     "name": "stdout",
     "text": [
      "C:\\\\Toar\\\\NGA_Ngala_WV2_12Aug2016_2016_55_249_original\\\\055795286010_01\\\\055795286010_01_P001_MUL\\\\16AUG12093434-M2AS-055795286010_01_P001.XML\nC:\\\\Toar\\\\NGA_Ngala_WV2_12Aug2016_2016_55_249_original\\\\055795286010_01\\\\055795286010_01_P001_MUL\\\\16AUG12093434-M2AS-055795286010_01_P001.TIF\n"
     ]
    }
   ],
   "source": [
    "folder = r'C:\\\\Toar\\\\NGA_Ngala_WV2_12Aug2016_2016_55_249_original\\\\055795286010_01\\\\055795286010_01_P001_MUL\\\\' # path to the P001_MUL \n",
    "#get image and metadata paths\n",
    "def find_paths(folder):\n",
    "    image =[]\n",
    "    metadata_path =[]  \n",
    "    #arcpy.env.workspace = r'C:\\Toar'= wkspc\n",
    "    for k in os.listdir(folder):\n",
    "        if k.endswith('.XML'):\n",
    "            metadata_path = os.path.join(folder,k)\n",
    "        if k.endswith('.TIF'):\n",
    "            image = os.path.join(folder,k)\n",
    "                #dataset = gdal.Open(image)\n",
    "    return(metadata_path, image)\n",
    "\n",
    " # #get band info\n",
    "# bandarr = dataset.GetRasterBand(1).ReadAsArray()\n",
    "# proj = dataset.GetProjection()\n",
    "# transf = dataset.GetGeoTransform()\n",
    "# # xsize = dataset.RasterXSize\n",
    "# ysize = dataset.RasterYSize\n",
    "# # bandarr = bandarr.astype('f')\n",
    "# format1 = 'GTiff' #change to 'ENVI'\n",
    "# driver = gdal.GetDriverByName(format1)\n",
    "# # dta_type = gdal.GDT_Float32\n",
    "\n",
    "\n",
    "\n",
    "m_path, i_path = find_paths(folder)\n",
    "\n",
    "print(m_path)\n",
    "print(i_path)"
   ]
  },
  {
   "cell_type": "code",
   "execution_count": 4,
   "metadata": {},
   "outputs": [],
   "source": [
    "#read neccesary parameters from the metadata\n",
    "def find_metad(metadata_path):\n",
    "    #iterate through the metada\n",
    "    tree = et.parse(metadata_path)\n",
    "    root = tree.getroot()\n",
    "\n",
    "    #uncomment to see the tag for each band (but not neccesary)\n",
    "    # [elem.tag for elem in root.iter()]\n",
    "\n",
    "    # extract the abscalfactor and effectivebandwidth \n",
    "    band_names = ['BAND_R', 'BAND_G','BAND_B', 'BAND_N'] #picked from the metadata\n",
    "    g=[]\n",
    "    for name in band_names:\n",
    "        for b in root.iter(name):\n",
    "            for b,c in itertools.product(b.iter('EFFECTIVEBANDWIDTH'), b.iter('ABSCALFACTOR')):\n",
    "                d =float(c.text)/float(b.text) #(abscalfacto/effective bandwidth) --- see equation 1\n",
    "                d = round(d,7)\n",
    "                g.append(d)\n",
    "    band_factors = dict(zip(band_names,g)) \n",
    "\n",
    "    return band_factors\n",
    "\n",
    "absl = find_metad(m_path)"
   ]
  },
  {
   "cell_type": "code",
   "execution_count": 5,
   "metadata": {},
   "outputs": [
    {
     "output_type": "stream",
     "name": "stdout",
     "text": [
      "{'BAND_R': 0.3226019, 'BAND_G': 0.2165392, 'BAND_B': 0.3284656, 'BAND_N': 0.2073638}\n"
     ]
    }
   ],
   "source": [
    "print(absl)"
   ]
  },
  {
   "source": [
    "## L = Gain x DN x (abscalfactor/effective bandwidth) + Offset  ------Equation 1\n"
   ],
   "cell_type": "markdown",
   "metadata": {}
  },
  {
   "cell_type": "code",
   "execution_count": 6,
   "metadata": {},
   "outputs": [
    {
     "output_type": "stream",
     "name": "stdout",
     "text": [
      "[[ -2.512       -2.512       -2.512      ...  -2.512       -2.512\n   -2.512     ]\n [ -2.512       -2.512       -2.512      ...  -2.512       -2.512\n   -2.512     ]\n [ -2.512       -2.512       -2.512      ...  -2.512       -2.512\n   -2.512     ]\n ...\n [ -2.512       -2.512       -2.512      ... 113.88534634 110.19994223\n   -2.512     ]\n [ -2.512       -2.512       -2.512      ... 106.51453812 106.20742112\n   -2.512     ]\n [ -2.512       -2.512       -2.512      ...  -2.512       -2.512\n   -2.512     ]]\n[[-3.546      -3.546      -3.546      ... -3.546      -3.546\n  -3.546     ]\n [-3.546      -3.546      -3.546      ... -3.546      -3.546\n  -3.546     ]\n [-3.546      -3.546      -3.546      ... -3.546      -3.546\n  -3.546     ]\n ...\n [-3.546      -3.546      -3.546      ... 43.53828365 42.83669664\n  -3.546     ]\n [-3.546      -3.546      -3.546      ... 40.42011917 40.18625683\n  -3.546     ]\n [-3.546      -3.546      -3.546      ... -3.546      -3.546\n  -3.546     ]]\n[[ -5.736       -5.736       -5.736      ...  -5.736       -5.736\n   -5.736     ]\n [ -5.736       -5.736       -5.736      ...  -5.736       -5.736\n   -5.736     ]\n [ -5.736       -5.736       -5.736      ...  -5.736       -5.736\n   -5.736     ]\n ...\n [ -5.736       -5.736       -5.736      ... 104.60216435 100.05882817\n   -5.736     ]\n [ -5.736       -5.736       -5.736      ...  93.2438239   94.86644397\n   -5.736     ]\n [ -5.736       -5.736       -5.736      ...  -5.736       -5.736\n   -5.736     ]]\n[[ -3.3         -3.3         -3.3        ...  -3.3         -3.3\n   -3.3       ]\n [ -3.3         -3.3         -3.3        ...  -3.3         -3.3\n   -3.3       ]\n [ -3.3         -3.3         -3.3        ...  -3.3         -3.3\n   -3.3       ]\n ...\n [ -3.3         -3.3         -3.3        ... 124.03775494 123.04137188\n   -3.3       ]\n [ -3.3         -3.3         -3.3        ... 121.84571221 118.65728642\n   -3.3       ]\n [ -3.3         -3.3         -3.3        ...  -3.3         -3.3\n   -3.3       ]]\n"
     ]
    }
   ],
   "source": [
    "#read the image .TIF from the folder \n",
    "dataset = gdal.Open(i_path, gdal.GA_ReadOnly)\n",
    "\n",
    "# selecting each band  and read as array, might not be the best approach but I thought it would work\n",
    "Band_R = dataset.GetRasterBand(1).ReadAsArray()\n",
    "Band_G = dataset.GetRasterBand(2).ReadAsArray()\n",
    "Band_B = dataset.GetRasterBand(3).ReadAsArray()\n",
    "Band_N = dataset.GetRasterBand(4).ReadAsArray()\n",
    "\n",
    "#passed all bands into array for easily looping, but it's not!!!\n",
    "layer = [Band_R, Band_G, Band_B, Band_N]\n",
    "\n",
    "#From the equation 1, below it meant to implement Equation 1. It does work but could not perform further arithmetric operations on the output array - c\n",
    "for a,b,c,d in zip(layer,absl.values(), offset.values(),gain.values()):\n",
    "    L = d*np.multiply(a,b)+c # I know thhis look rough but I ju\n",
    "    print(L) #Is it possile to extract each bands from L using index? I tried didn't work"
   ]
  },
  {
   "cell_type": "code",
   "execution_count": 8,
   "metadata": {
    "tags": []
   },
   "outputs": [
    {
     "output_type": "execute_result",
     "data": {
      "text/plain": [
       "array([-3.3, -3.3, -3.3, ..., -3.3, -3.3, -3.3])"
      ]
     },
     "metadata": {},
     "execution_count": 8
    }
   ],
   "source": [
    "L[1] #dosen't look good"
   ]
  },
  {
   "cell_type": "code",
   "execution_count": 9,
   "metadata": {},
   "outputs": [
    {
     "output_type": "execute_result",
     "data": {
      "text/plain": [
       "array([[ -2.512     ,  -2.512     ,  -2.512     , ...,  -2.512     ,\n",
       "         -2.512     ,  -2.512     ],\n",
       "       [ -2.512     ,  -2.512     ,  -2.512     , ...,  -2.512     ,\n",
       "         -2.512     ,  -2.512     ],\n",
       "       [ -2.512     ,  -2.512     ,  -2.512     , ...,  -2.512     ,\n",
       "         -2.512     ,  -2.512     ],\n",
       "       ...,\n",
       "       [ -2.512     ,  -2.512     ,  -2.512     , ..., 113.88534634,\n",
       "        110.19994223,  -2.512     ],\n",
       "       [ -2.512     ,  -2.512     ,  -2.512     , ..., 106.51453812,\n",
       "        106.20742112,  -2.512     ],\n",
       "       [ -2.512     ,  -2.512     ,  -2.512     , ...,  -2.512     ,\n",
       "         -2.512     ,  -2.512     ]])"
      ]
     },
     "metadata": {},
     "execution_count": 9
    }
   ],
   "source": [
    "#I was just trying if working on each band is a good idea.\n",
    "radiance_R = gain['BAND_R']* Band_R*absl['BAND_R']+offset['BAND_R']\n",
    "radiance_R"
   ]
  },
  {
   "cell_type": "code",
   "execution_count": 10,
   "metadata": {},
   "outputs": [],
   "source": [
    " #this  needed to write out each bands\n",
    " #get band info\n",
    "band_ds = gdal.Open(i_path)\n",
    "\n",
    "# proj = band_ds.GetProjection()\n",
    "transf = band_ds.GetGeoTransform()\n",
    "xsize = band_ds.RasterXSize\n",
    "ysize = band_ds.RasterYSize\n",
    "# band  = band.astype('f')\n",
    "format1 = 'GTiff' #change to 'ENVI'\n",
    "driver = gdal.GetDriverByName(format1)\n",
    "dta_type = gdal.GDT_Float32"
   ]
  }
 ]
}